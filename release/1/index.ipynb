{
 "cells": [
  {
   "cell_type": "markdown",
   "metadata": {},
   "source": [
    "# Machine Learning 101++ in Python\n",
    "\n",
    "by Pieter Buteneers (@pieterbuteneers) and Bart De Vylder from CoScale\n",
    "\n",
    "\n",
    "## [1. Notebook and Numpy introduction](notebook_intro.ipynb)\n",
    "\n",
    "## [2. Anomaly Detection @CoScale](anomaly_detection.ipynb)\n",
    "\n",
    "## [3. Machine Learning](machine_learning.ipynb)"
   ]
  }
 ],
 "metadata": {
  "anaconda-cloud": {},
  "kernelspec": {
   "display_name": "Python [default]",
   "language": "python",
   "name": "python2"
  },
  "language_info": {
   "codemirror_mode": {
    "name": "ipython",
    "version": 2
   },
   "file_extension": ".py",
   "mimetype": "text/x-python",
   "name": "python",
   "nbconvert_exporter": "python",
   "pygments_lexer": "ipython2",
   "version": "2.7.13"
  }
 },
 "nbformat": 4,
 "nbformat_minor": 1
}
